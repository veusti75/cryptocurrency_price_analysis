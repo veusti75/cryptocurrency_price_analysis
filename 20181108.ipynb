{
 "cells": [
  {
   "cell_type": "markdown",
   "metadata": {},
   "source": [
    " Steve ENYEGUE **20181108** et Bilel RIMANI **20190264**\n"
   ]
  },
  {
   "cell_type": "markdown",
   "metadata": {},
   "source": [
    "## Crytocurrencies price analysis\n",
    "\n",
    "Firstly we're trying to have an output of the price evolution for one single cryptocurrency.\n",
    "We extracted data from this [exchange](https://www.poloniex.com)\n"
   ]
  },
  {
   "cell_type": "code",
   "execution_count": 1,
   "metadata": {},
   "outputs": [
    {
     "name": "stdout",
     "output_type": "stream",
     "text": [
      "Please insert a cryptocurrency to analyse:USDT_LTC\n"
     ]
    }
   ],
   "source": [
    "import pandas as pd\n",
    "%matplotlib inline\n",
    "import matplotlib.pyplot as plt\n",
    "\n",
    "import numpy as npgogo\n",
    "import matplotlib.pyplot as plt\n",
    "from matplotlib import style\n",
    "style.use(\"ggplot\")\n",
    "from sklearn.cluster import KMeans\n",
    "\n",
    "\n",
    "def CryptoData(symbol, frequency):\n",
    "    #Returns: df from first available date\n",
    "    url ='https://poloniex.com/public?command=returnChartData&currencyPair='+symbol+'&end=9999999999&period='+str(frequency)+'&start=0'\n",
    "    df = pd.read_json(url) \n",
    "    #pd.read_csv() loads CSV file into a data frame\n",
    "    df.set_index('date',inplace=True)\n",
    "    return df\n",
    "\n",
    "currency_name = input(\"Please insert a cryptocurrency to analyse:\")\n",
    "#Examples of input: USDT_ETH, USDT_BTC\n",
    "\n",
    "\n"
   ]
  },
  {
   "cell_type": "markdown",
   "metadata": {},
   "source": [
    "Now we are going to get the daily cryptocurrrency close data. It's up to you if you want to replace \"close\" in the code by another parameter from the \"high-low-close-volume\" chart."
   ]
  },
  {
   "cell_type": "code",
   "execution_count": 2,
   "metadata": {},
   "outputs": [
    {
     "data": {
      "text/plain": [
       "<matplotlib.axes._subplots.AxesSubplot at 0x1da323532b0>"
      ]
     },
     "execution_count": 2,
     "metadata": {},
     "output_type": "execute_result"
    },
    {
     "data": {
      "image/png": "[encoded data removed]",
      "text/plain": [
       "<Figure size 432x288 with 1 Axes>"
      ]
     },
     "metadata": {
      "needs_background": "light"
     },
     "output_type": "display_data"
    }
   ],
   "source": [
    "df = CryptoData(currency_name, 86400)['close']\n",
    "plt.title(\"%s historical price\"%currency_name) #String formatting\n",
    "plt.ylabel(\"Price ($)\")\n",
    "df.plot()\n"
   ]
  },
  {
   "cell_type": "code",
   "execution_count": 3,
   "metadata": {},
   "outputs": [
    {
     "data": {
      "text/plain": [
       "count    1791.000000\n",
       "mean        0.021167\n",
       "std         0.502993\n",
       "min        -0.850000\n",
       "25%        -0.021987\n",
       "50%         0.000000\n",
       "75%         0.025425\n",
       "max        20.333356\n",
       "Name: close, dtype: float64"
      ]
     },
     "execution_count": 3,
     "metadata": {},
     "output_type": "execute_result"
    }
   ],
   "source": [
    "df.pct_change().describe()"
   ]
  },
  {
   "cell_type": "markdown",
   "metadata": {},
   "source": [
    "Let's plot histogram of percentage returns to see how volatile is the coin."
   ]
  },
  {
   "cell_type": "code",
   "execution_count": 4,
   "metadata": {
    "scrolled": true
   },
   "outputs": [
    {
     "data": {
      "text/plain": [
       "Text(0.5, 1.0, 'USDT_LTC Daily Close Returns Distribution')"
      ]
     },
     "execution_count": 4,
     "metadata": {},
     "output_type": "execute_result"
    },
    {
     "data": {
      "image/png": "[encoded data removed]",
      "text/plain": [
       "<Figure size 432x288 with 1 Axes>"
      ]
     },
     "metadata": {
      "needs_background": "light"
     },
     "output_type": "display_data"
    }
   ],
   "source": [
    "distrib = df.pct_change().hist(bins=100)\n",
    "\n",
    "plt.title(\"%s Daily Close Returns Distribution\"%currency_name)"
   ]
  },
  {
   "cell_type": "code",
   "execution_count": 5,
   "metadata": {
    "scrolled": true
   },
   "outputs": [
    {
     "data": {
      "text/plain": [
       "(date\n",
       " 2015-03-07    0.045000\n",
       " 2015-03-08    0.045000\n",
       " 2015-03-09    0.045000\n",
       " 2015-03-10    0.960001\n",
       " 2015-03-11    0.960001\n",
       " Name: close, dtype: float64, date\n",
       " 2020-01-27    58.515762\n",
       " 2020-01-28    60.676386\n",
       " 2020-01-29    59.819527\n",
       " 2020-01-30    67.985785\n",
       " 2020-01-31    67.455782\n",
       " Name: close, dtype: float64)"
      ]
     },
     "execution_count": 5,
     "metadata": {},
     "output_type": "execute_result"
    }
   ],
   "source": [
    "df.head(),df.tail()"
   ]
  },
  {
   "cell_type": "markdown",
   "metadata": {},
   "source": [
    "Now let's load the information of several cryptocurrencies at the same time."
   ]
  },
  {
   "cell_type": "code",
   "execution_count": 6,
   "metadata": {},
   "outputs": [
    {
     "name": "stdout",
     "output_type": "stream",
     "text": [
      "Processed: USDT_BTC\n",
      "Processed: USDT_ETC\n",
      "Processed: USDT_XMR\n",
      "Processed: USDT_ETH\n",
      "Processed: USDT_DASH\n",
      "Processed: USDT_XRP\n",
      "Processed: USDT_LTC\n"
     ]
    }
   ],
   "source": [
    "def CryptoDataCSV(symbol, frequency):\n",
    "    #Returns: df from first available date\n",
    "    url ='https://poloniex.com/public?command=returnChartData&currencyPair='+symbol+'&end=9999999999&period='+str(frequency)+'&start=0'\n",
    "    df = pd.read_json(url)\n",
    "    df.set_index('date',inplace=True)\n",
    "    df.to_csv(symbol + '.csv')\n",
    "    print('Processed: ' + symbol)\n",
    "    \n",
    "#Putting together the closing prices into a variable\n",
    "    \n",
    "tickers =  ['USDT_BTC','USDT_ETC','USDT_XMR','USDT_ETH','USDT_DASH',\n",
    " 'USDT_XRP','USDT_LTC']\n",
    "\n",
    "for ticker in tickers:\n",
    "    CryptoDataCSV(ticker, 86400)\n",
    "\n",
    "\n"
   ]
  },
  {
   "cell_type": "markdown",
   "metadata": {},
   "source": [
    "Now let's put the dataframe of closing prices in a variable.\n"
   ]
  },
  {
   "cell_type": "code",
   "execution_count": 7,
   "metadata": {},
   "outputs": [],
   "source": [
    "crypto_df = pd.DataFrame()\n",
    "for ticker in tickers:\n",
    "    crypto_df[ticker] = pd.read_csv(ticker+'.csv', index_col = 'date')['close']\n",
    "    \n",
    "crypto_df_pct = crypto_df.pct_change().dropna()\n"
   ]
  },
  {
   "cell_type": "code",
   "execution_count": 8,
   "metadata": {},
   "outputs": [
    {
     "data": {
      "text/html": [
       "<div>\n",
       "<style scoped>\n",
       "    .dataframe tbody tr th:only-of-type {\n",
       "        vertical-align: middle;\n",
       "    }\n",
       "\n",
       "    .dataframe tbody tr th {\n",
       "        vertical-align: top;\n",
       "    }\n",
       "\n",
       "    .dataframe thead th {\n",
       "        text-align: right;\n",
       "    }\n",
       "</style>\n",
       "<table border=\"1\" class=\"dataframe\">\n",
       "  <thead>\n",
       "    <tr style=\"text-align: right;\">\n",
       "      <th></th>\n",
       "      <th>USDT_BTC</th>\n",
       "      <th>USDT_ETC</th>\n",
       "      <th>USDT_XMR</th>\n",
       "      <th>USDT_ETH</th>\n",
       "      <th>USDT_DASH</th>\n",
       "      <th>USDT_XRP</th>\n",
       "      <th>USDT_LTC</th>\n",
       "    </tr>\n",
       "    <tr>\n",
       "      <th>date</th>\n",
       "      <th></th>\n",
       "      <th></th>\n",
       "      <th></th>\n",
       "      <th></th>\n",
       "      <th></th>\n",
       "      <th></th>\n",
       "      <th></th>\n",
       "    </tr>\n",
       "  </thead>\n",
       "  <tbody>\n",
       "    <tr>\n",
       "      <th>2020-01-27</th>\n",
       "      <td>0.034344</td>\n",
       "      <td>0.132581</td>\n",
       "      <td>0.025777</td>\n",
       "      <td>0.012520</td>\n",
       "      <td>0.017979</td>\n",
       "      <td>-0.003457</td>\n",
       "      <td>0.039569</td>\n",
       "    </tr>\n",
       "    <tr>\n",
       "      <th>2020-01-28</th>\n",
       "      <td>0.053036</td>\n",
       "      <td>0.094511</td>\n",
       "      <td>0.035089</td>\n",
       "      <td>0.033968</td>\n",
       "      <td>0.031112</td>\n",
       "      <td>0.036580</td>\n",
       "      <td>0.036924</td>\n",
       "    </tr>\n",
       "    <tr>\n",
       "      <th>2020-01-29</th>\n",
       "      <td>-0.008408</td>\n",
       "      <td>0.074516</td>\n",
       "      <td>0.030887</td>\n",
       "      <td>-0.011132</td>\n",
       "      <td>0.044220</td>\n",
       "      <td>-0.014876</td>\n",
       "      <td>-0.014122</td>\n",
       "    </tr>\n",
       "    <tr>\n",
       "      <th>2020-01-30</th>\n",
       "      <td>0.022444</td>\n",
       "      <td>0.004107</td>\n",
       "      <td>0.072811</td>\n",
       "      <td>0.062583</td>\n",
       "      <td>0.003457</td>\n",
       "      <td>0.035582</td>\n",
       "      <td>0.136515</td>\n",
       "    </tr>\n",
       "    <tr>\n",
       "      <th>2020-01-31</th>\n",
       "      <td>-0.022117</td>\n",
       "      <td>-0.103806</td>\n",
       "      <td>-0.055896</td>\n",
       "      <td>-0.032382</td>\n",
       "      <td>-0.057888</td>\n",
       "      <td>-0.027765</td>\n",
       "      <td>-0.007796</td>\n",
       "    </tr>\n",
       "  </tbody>\n",
       "</table>\n",
       "</div>"
      ],
      "text/plain": [
       "            USDT_BTC  USDT_ETC  USDT_XMR  USDT_ETH  USDT_DASH  USDT_XRP  \\\n",
       "date                                                                      \n",
       "2020-01-27  0.034344  0.132581  0.025777  0.012520   0.017979 -0.003457   \n",
       "2020-01-28  0.053036  0.094511  0.035089  0.033968   0.031112  0.036580   \n",
       "2020-01-29 -0.008408  0.074516  0.030887 -0.011132   0.044220 -0.014876   \n",
       "2020-01-30  0.022444  0.004107  0.072811  0.062583   0.003457  0.035582   \n",
       "2020-01-31 -0.022117 -0.103806 -0.055896 -0.032382  -0.057888 -0.027765   \n",
       "\n",
       "            USDT_LTC  \n",
       "date                  \n",
       "2020-01-27  0.039569  \n",
       "2020-01-28  0.036924  \n",
       "2020-01-29 -0.014122  \n",
       "2020-01-30  0.136515  \n",
       "2020-01-31 -0.007796  "
      ]
     },
     "execution_count": 8,
     "metadata": {},
     "output_type": "execute_result"
    }
   ],
   "source": [
    "crypto_df_pct.tail()"
   ]
  },
  {
   "cell_type": "code",
   "execution_count": 9,
   "metadata": {},
   "outputs": [
    {
     "data": {
      "text/plain": [
       "pandas.core.frame.DataFrame"
      ]
     },
     "execution_count": 9,
     "metadata": {},
     "output_type": "execute_result"
    }
   ],
   "source": [
    "type(crypto_df_pct)"
   ]
  },
  {
   "cell_type": "markdown",
   "metadata": {},
   "source": [
    "We can see the type of the dataframe. However, the clustering Kmeans method only works for arrays. So we have to convert the dataframe into an array."
   ]
  },
  {
   "cell_type": "code",
   "execution_count": 10,
   "metadata": {},
   "outputs": [],
   "source": [
    "array = crypto_df_pct.to_numpy()"
   ]
  },
  {
   "cell_type": "markdown",
   "metadata": {},
   "source": [
    "Seven different cryptocurrencies, so seven different columns."
   ]
  },
  {
   "cell_type": "code",
   "execution_count": 11,
   "metadata": {},
   "outputs": [
    {
     "data": {
      "text/plain": [
       "(1282, 7)"
      ]
     },
     "execution_count": 11,
     "metadata": {},
     "output_type": "execute_result"
    }
   ],
   "source": [
    "crypto_df_pct.shape"
   ]
  },
  {
   "cell_type": "markdown",
   "metadata": {},
   "source": [
    "In this example we chose to analyse DASH and XMR (respectively 4th and 2nd column)."
   ]
  },
  {
   "cell_type": "code",
   "execution_count": 12,
   "metadata": {},
   "outputs": [
    {
     "data": {
      "image/png": "[encoded data removed]",
      "text/plain": [
       "<Figure size 432x288 with 1 Axes>"
      ]
     },
     "metadata": {
      "needs_background": "light"
     },
     "output_type": "display_data"
    }
   ],
   "source": [
    "plt.figure(figsize=(6, 4))\n",
    "plt.scatter(array[:,4],array[:,2])\n",
    "plt.xlabel('USDT_DASH % Return')\n",
    "plt.ylabel('USDT_XMR % Return')\n",
    "plt.show()\n"
   ]
  },
  {
   "cell_type": "markdown",
   "metadata": {},
   "source": [
    "At this point, we thought it would be interesting to do a clustering :"
   ]
  },
  {
   "cell_type": "code",
   "execution_count": 13,
   "metadata": {
    "scrolled": true
   },
   "outputs": [
    {
     "name": "stdout",
     "output_type": "stream",
     "text": [
      "How many clusters do you see ?3\n"
     ]
    },
    {
     "data": {
      "image/png": "[encoded data removed]",
      "text/plain": [
       "<Figure size 432x288 with 1 Axes>"
      ]
     },
     "metadata": {
      "needs_background": "light"
     },
     "output_type": "display_data"
    }
   ],
   "source": [
    "number_of_clusters = int(input(\"How many clusters do you see ?\")) \n",
    "clf = KMeans(n_clusters=number_of_clusters) #Define the number of clusters\n",
    "clf.fit(array)\n",
    "\n",
    "labels = clf.labels_\n",
    "\n",
    "colors = [\"g.\",\"r.\",\"c.\",\"b.\",\"k.\",\"o.\"]\n",
    "\n",
    "for i in range(len(array)):\n",
    "    plt.plot(array[i][4],array[i][2], colors[labels[i]])\n",
    "    \n",
    "plt.xlabel('USDT_DASH % Return')\n",
    "plt.ylabel('USDT_XMR % Return')\n",
    "plt.show()"
   ]
  },
  {
   "cell_type": "markdown",
   "metadata": {},
   "source": [
    "statsmodels is a module that provides classes and functions for statistical data exploration. We're just going to use it to output the summary."
   ]
  },
  {
   "cell_type": "code",
   "execution_count": 14,
   "metadata": {
    "scrolled": true
   },
   "outputs": [
    {
     "data": {
      "text/html": [
       "<table class=\"simpletable\">\n",
       "<caption>OLS Regression Results</caption>\n",
       "<tr>\n",
       "  <th>Dep. Variable:</th>        <td>USDT_XMR</td>     <th>  R-squared (uncentered):</th>      <td>   0.301</td> \n",
       "</tr>\n",
       "<tr>\n",
       "  <th>Model:</th>                   <td>OLS</td>       <th>  Adj. R-squared (uncentered):</th> <td>   0.301</td> \n",
       "</tr>\n",
       "<tr>\n",
       "  <th>Method:</th>             <td>Least Squares</td>  <th>  F-statistic:       </th>          <td>   552.0</td> \n",
       "</tr>\n",
       "<tr>\n",
       "  <th>Date:</th>             <td>Fri, 31 Jan 2020</td> <th>  Prob (F-statistic):</th>          <td>8.64e-102</td>\n",
       "</tr>\n",
       "<tr>\n",
       "  <th>Time:</th>                 <td>11:20:00</td>     <th>  Log-Likelihood:    </th>          <td>  1819.0</td> \n",
       "</tr>\n",
       "<tr>\n",
       "  <th>No. Observations:</th>      <td>  1282</td>      <th>  AIC:               </th>          <td>  -3636.</td> \n",
       "</tr>\n",
       "<tr>\n",
       "  <th>Df Residuals:</th>          <td>  1281</td>      <th>  BIC:               </th>          <td>  -3631.</td> \n",
       "</tr>\n",
       "<tr>\n",
       "  <th>Df Model:</th>              <td>     1</td>      <th>                     </th>              <td> </td>    \n",
       "</tr>\n",
       "<tr>\n",
       "  <th>Covariance Type:</th>      <td>nonrobust</td>    <th>                     </th>              <td> </td>    \n",
       "</tr>\n",
       "</table>\n",
       "<table class=\"simpletable\">\n",
       "<tr>\n",
       "      <td></td>         <th>coef</th>     <th>std err</th>      <th>t</th>      <th>P>|t|</th>  <th>[0.025</th>    <th>0.975]</th>  \n",
       "</tr>\n",
       "<tr>\n",
       "  <th>USDT_DASH</th> <td>    0.6140</td> <td>    0.026</td> <td>   23.495</td> <td> 0.000</td> <td>    0.563</td> <td>    0.665</td>\n",
       "</tr>\n",
       "</table>\n",
       "<table class=\"simpletable\">\n",
       "<tr>\n",
       "  <th>Omnibus:</th>       <td>1129.502</td> <th>  Durbin-Watson:     </th> <td>   1.974</td> \n",
       "</tr>\n",
       "<tr>\n",
       "  <th>Prob(Omnibus):</th>  <td> 0.000</td>  <th>  Jarque-Bera (JB):  </th> <td>91466.441</td>\n",
       "</tr>\n",
       "<tr>\n",
       "  <th>Skew:</th>           <td> 3.652</td>  <th>  Prob(JB):          </th> <td>    0.00</td> \n",
       "</tr>\n",
       "<tr>\n",
       "  <th>Kurtosis:</th>       <td>43.731</td>  <th>  Cond. No.          </th> <td>    1.00</td> \n",
       "</tr>\n",
       "</table><br/><br/>Warnings:<br/>[1] Standard Errors assume that the covariance matrix of the errors is correctly specified."
      ],
      "text/plain": [
       "<class 'statsmodels.iolib.summary.Summary'>\n",
       "\"\"\"\n",
       "                                 OLS Regression Results                                \n",
       "=======================================================================================\n",
       "Dep. Variable:               USDT_XMR   R-squared (uncentered):                   0.301\n",
       "Model:                            OLS   Adj. R-squared (uncentered):              0.301\n",
       "Method:                 Least Squares   F-statistic:                              552.0\n",
       "Date:                Fri, 31 Jan 2020   Prob (F-statistic):                   8.64e-102\n",
       "Time:                        11:20:00   Log-Likelihood:                          1819.0\n",
       "No. Observations:                1282   AIC:                                     -3636.\n",
       "Df Residuals:                    1281   BIC:                                     -3631.\n",
       "Df Model:                           1                                                  \n",
       "Covariance Type:            nonrobust                                                  \n",
       "==============================================================================\n",
       "                 coef    std err          t      P>|t|      [0.025      0.975]\n",
       "------------------------------------------------------------------------------\n",
       "USDT_DASH      0.6140      0.026     23.495      0.000       0.563       0.665\n",
       "==============================================================================\n",
       "Omnibus:                     1129.502   Durbin-Watson:                   1.974\n",
       "Prob(Omnibus):                  0.000   Jarque-Bera (JB):            91466.441\n",
       "Skew:                           3.652   Prob(JB):                         0.00\n",
       "Kurtosis:                      43.731   Cond. No.                         1.00\n",
       "==============================================================================\n",
       "\n",
       "Warnings:\n",
       "[1] Standard Errors assume that the covariance matrix of the errors is correctly specified.\n",
       "\"\"\""
      ]
     },
     "execution_count": 14,
     "metadata": {},
     "output_type": "execute_result"
    }
   ],
   "source": [
    "import statsmodels.api as sm\n",
    "model = sm.OLS(crypto_df_pct['USDT_XMR'],\n",
    "               crypto_df_pct['USDT_DASH']).fit()\n",
    "model.summary()"
   ]
  },
  {
   "cell_type": "markdown",
   "metadata": {},
   "source": [
    "Finally, we are going to compute the linear regression ourselves, without a module."
   ]
  },
  {
   "cell_type": "code",
   "execution_count": 16,
   "metadata": {},
   "outputs": [
    {
     "data": {
      "image/png": "[encoded data removed]",
      "text/plain": [
       "<Figure size 432x288 with 1 Axes>"
      ]
     },
     "metadata": {
      "needs_background": "light"
     },
     "output_type": "display_data"
    }
   ],
   "source": [
    "plt.figure()\n",
    "\n",
    "axis = plt.axis([-0.3, 0.6, -0.3 ,0.9])\n",
    "m, b = np.polyfit(array[:,4],array[:,2],1) #polynomial fit function that accepts the data set and returns an array of coefficients that minimizes the squared error\n",
    "plt.grid(True)\n",
    "plt.plot(array[:,4],array[:,2], 'k.')\n",
    "plt.plot(array[:,4], m*array[:,4] + b, '-') #Linear function form is f(x)=ax+b\n",
    "plt.title('Linear Regression')\n",
    "plt.xlabel('USDT_DASH % Return')\n",
    "plt.ylabel('USDT_XMR % Return')\n",
    "\n",
    "plt.show()"
   ]
  },
  {
   "cell_type": "code",
   "execution_count": null,
   "metadata": {},
   "outputs": [],
   "source": []
  }
 ],
 "metadata": {
  "kernelspec": {
   "display_name": "Python 3",
   "language": "python",
   "name": "python3"
  },
  "language_info": {
   "codemirror_mode": {
    "name": "ipython",
    "version": 3
   },
   "file_extension": ".py",
   "mimetype": "text/x-python",
   "name": "python",
   "nbconvert_exporter": "python",
   "pygments_lexer": "ipython3",
   "version": "3.7.3"
  }
 },
 "nbformat": 4,
 "nbformat_minor": 2
}
